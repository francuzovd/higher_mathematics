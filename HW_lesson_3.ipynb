{
  "nbformat": 4,
  "nbformat_minor": 0,
  "metadata": {
    "colab": {
      "name": "HW_lesson_3.ipynb",
      "version": "0.3.2",
      "provenance": [],
      "collapsed_sections": [],
      "include_colab_link": true
    },
    "kernelspec": {
      "name": "python3",
      "display_name": "Python 3"
    }
  },
  "cells": [
    {
      "cell_type": "markdown",
      "metadata": {
        "id": "view-in-github",
        "colab_type": "text"
      },
      "source": [
        "<a href=\"https://colab.research.google.com/github/francuzovd/higher_mathematics/blob/master/HW_lesson_3.ipynb\" target=\"_parent\"><img src=\"https://colab.research.google.com/assets/colab-badge.svg\" alt=\"Open In Colab\"/></a>"
      ]
    },
    {
      "metadata": {
        "id": "Uoxntbmfw2qx",
        "colab_type": "code",
        "colab": {}
      },
      "cell_type": "code",
      "source": [
        "import numpy as np\n",
        "import pandas as pd"
      ],
      "execution_count": 0,
      "outputs": []
    },
    {
      "metadata": {
        "id": "9dvqP8dyxBRH",
        "colab_type": "code",
        "colab": {}
      },
      "cell_type": "code",
      "source": [
        ""
      ],
      "execution_count": 0,
      "outputs": []
    },
    {
      "metadata": {
        "id": "OHs894wSxDIl",
        "colab_type": "text"
      },
      "cell_type": "markdown",
      "source": [
        "# Практическое задание 6."
      ]
    },
    {
      "metadata": {
        "id": "bHFbDYBnxOuw",
        "colab_type": "text"
      },
      "cell_type": "markdown",
      "source": [
        "1. Решите линейную систему:"
      ]
    },
    {
      "metadata": {
        "id": "oARr1RVNzaV1",
        "colab_type": "code",
        "colab": {
          "base_uri": "https://localhost:8080/",
          "height": 34
        },
        "outputId": "f7c8f9b2-84e8-4670-a697-3cab3f190ec8"
      },
      "cell_type": "code",
      "source": [
        "A = np.array([[1, 2, 3], [4, 0, 6], [7, 8, 9]])\n",
        "B = np.array([12, 2, 1])\n",
        "X = np.linalg.solve(A, B)\n",
        "print(f'Решение уравнения - {X}')"
      ],
      "execution_count": 6,
      "outputs": [
        {
          "output_type": "stream",
          "text": [
            "Решение уравнения - [-9.2         0.9         6.46666667]\n"
          ],
          "name": "stdout"
        }
      ]
    },
    {
      "metadata": {
        "id": "aDUK2-D70V6y",
        "colab_type": "code",
        "colab": {
          "base_uri": "https://localhost:8080/",
          "height": 34
        },
        "outputId": "0b673f66-d520-4fc5-c214-61a4b03eaa11"
      },
      "cell_type": "code",
      "source": [
        "A1 = np.linalg.inv(A)\n",
        "X1 = np.dot(A1, B)\n",
        "print(f'Решение уравнения = {X1}')"
      ],
      "execution_count": 7,
      "outputs": [
        {
          "output_type": "stream",
          "text": [
            "Решение уравнения = [-9.2         0.9         6.46666667]\n"
          ],
          "name": "stdout"
        }
      ]
    },
    {
      "metadata": {
        "id": "f7RwL8Ff1GgC",
        "colab_type": "text"
      },
      "cell_type": "markdown",
      "source": [
        "2. Найдите псевдорешение:"
      ]
    },
    {
      "metadata": {
        "id": "ytvHrehP1EUD",
        "colab_type": "code",
        "colab": {}
      },
      "cell_type": "code",
      "source": [
        ""
      ],
      "execution_count": 0,
      "outputs": []
    }
  ]
}