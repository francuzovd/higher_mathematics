{
  "nbformat": 4,
  "nbformat_minor": 0,
  "metadata": {
    "colab": {
      "name": "HW_lesson_3.ipynb",
      "version": "0.3.2",
      "provenance": [],
      "collapsed_sections": [],
      "include_colab_link": true
    },
    "kernelspec": {
      "name": "python3",
      "display_name": "Python 3"
    }
  },
  "cells": [
    {
      "cell_type": "markdown",
      "metadata": {
        "id": "view-in-github",
        "colab_type": "text"
      },
      "source": [
        "<a href=\"https://colab.research.google.com/github/francuzovd/higher_mathematics/blob/master/HW_lesson_3.ipynb\" target=\"_parent\"><img src=\"https://colab.research.google.com/assets/colab-badge.svg\" alt=\"Open In Colab\"/></a>"
      ]
    },
    {
      "metadata": {
        "id": "Uoxntbmfw2qx",
        "colab_type": "code",
        "colab": {}
      },
      "cell_type": "code",
      "source": [
        "import numpy as np\n",
        "import pandas as pd\n",
        "import scipy\n",
        "import matplotlib.pyplot as plt"
      ],
      "execution_count": 0,
      "outputs": []
    },
    {
      "metadata": {
        "id": "Cmh0Fzcrv-kO",
        "colab_type": "text"
      },
      "cell_type": "markdown",
      "source": [
        "# Практическое задание к уроку 5."
      ]
    },
    {
      "metadata": {
        "id": "hwRSrTd-v-kP",
        "colab_type": "text"
      },
      "cell_type": "markdown",
      "source": [
        "### Задание 1.\n"
      ]
    },
    {
      "metadata": {
        "id": "27cqgO2mv-kQ",
        "colab_type": "text"
      },
      "cell_type": "markdown",
      "source": [
        "1. Вектор – это частный случай матрицы 1хN и Nх1. Повторите материал для векторов, уделяя особое внимание умножению A∙B."
      ]
    },
    {
      "metadata": {
        "id": "F9nvtN68v-kS",
        "colab_type": "code",
        "colab": {}
      },
      "cell_type": "code",
      "source": [
        "\n",
        "A = np.array([[0, 3, 5, 11]])\n",
        "B = np.array([[2], [6], [10], [22]])"
      ],
      "execution_count": 0,
      "outputs": []
    },
    {
      "metadata": {
        "id": "WmB_ZI-rv-kX",
        "colab_type": "code",
        "outputId": "be7e81c5-2392-43fa-a840-10f4a5fcf8ba",
        "colab": {
          "base_uri": "https://localhost:8080/",
          "height": 34
        }
      },
      "cell_type": "code",
      "source": [
        "A"
      ],
      "execution_count": 0,
      "outputs": [
        {
          "output_type": "execute_result",
          "data": {
            "text/plain": [
              "array([[ 0,  3,  5, 11]])"
            ]
          },
          "metadata": {
            "tags": []
          },
          "execution_count": 74
        }
      ]
    },
    {
      "metadata": {
        "id": "k4P42Q5kv-kd",
        "colab_type": "code",
        "outputId": "0009633b-3554-48ba-f990-e3fe39403bbe",
        "colab": {
          "base_uri": "https://localhost:8080/",
          "height": 85
        }
      },
      "cell_type": "code",
      "source": [
        "B"
      ],
      "execution_count": 0,
      "outputs": [
        {
          "output_type": "execute_result",
          "data": {
            "text/plain": [
              "array([[ 2],\n",
              "       [ 6],\n",
              "       [10],\n",
              "       [22]])"
            ]
          },
          "metadata": {
            "tags": []
          },
          "execution_count": 75
        }
      ]
    },
    {
      "metadata": {
        "id": "mz1ssjxNv-kg",
        "colab_type": "code",
        "outputId": "e068b58c-8a92-4417-c7c7-d27834838960",
        "colab": {
          "base_uri": "https://localhost:8080/",
          "height": 34
        }
      },
      "cell_type": "code",
      "source": [
        "A.shape, B.shape"
      ],
      "execution_count": 0,
      "outputs": [
        {
          "output_type": "execute_result",
          "data": {
            "text/plain": [
              "((1, 4), (4, 1))"
            ]
          },
          "metadata": {
            "tags": []
          },
          "execution_count": 76
        }
      ]
    },
    {
      "metadata": {
        "id": "0crYa-C-v-kj",
        "colab_type": "code",
        "outputId": "e3a88244-512f-4772-e0b9-5ab0ab196a3f",
        "colab": {
          "base_uri": "https://localhost:8080/",
          "height": 34
        }
      },
      "cell_type": "code",
      "source": [
        "A * 2"
      ],
      "execution_count": 0,
      "outputs": [
        {
          "output_type": "execute_result",
          "data": {
            "text/plain": [
              "array([[ 0,  6, 10, 22]])"
            ]
          },
          "metadata": {
            "tags": []
          },
          "execution_count": 77
        }
      ]
    },
    {
      "metadata": {
        "id": "s6y6Ml-dv-kn",
        "colab_type": "code",
        "outputId": "17d4965d-5ff4-48fa-913b-43061bcaf15d",
        "colab": {
          "base_uri": "https://localhost:8080/",
          "height": 85
        }
      },
      "cell_type": "code",
      "source": [
        "B + 1"
      ],
      "execution_count": 0,
      "outputs": [
        {
          "output_type": "execute_result",
          "data": {
            "text/plain": [
              "array([[ 3],\n",
              "       [ 7],\n",
              "       [11],\n",
              "       [23]])"
            ]
          },
          "metadata": {
            "tags": []
          },
          "execution_count": 78
        }
      ]
    },
    {
      "metadata": {
        "id": "NWSHh6DHv-kw",
        "colab_type": "code",
        "outputId": "532c0713-a2f9-4cde-f402-27d8f70dc291",
        "colab": {
          "base_uri": "https://localhost:8080/",
          "height": 85
        }
      },
      "cell_type": "code",
      "source": [
        "np.add(A, B)"
      ],
      "execution_count": 0,
      "outputs": [
        {
          "output_type": "execute_result",
          "data": {
            "text/plain": [
              "array([[ 2,  5,  7, 13],\n",
              "       [ 6,  9, 11, 17],\n",
              "       [10, 13, 15, 21],\n",
              "       [22, 25, 27, 33]])"
            ]
          },
          "metadata": {
            "tags": []
          },
          "execution_count": 79
        }
      ]
    },
    {
      "metadata": {
        "id": "gUv-XPX5v-k1",
        "colab_type": "code",
        "outputId": "f8808a90-0527-40e5-809b-e9d86d749972",
        "colab": {
          "base_uri": "https://localhost:8080/",
          "height": 85
        }
      },
      "cell_type": "code",
      "source": [
        "A + B"
      ],
      "execution_count": 0,
      "outputs": [
        {
          "output_type": "execute_result",
          "data": {
            "text/plain": [
              "array([[ 2,  5,  7, 13],\n",
              "       [ 6,  9, 11, 17],\n",
              "       [10, 13, 15, 21],\n",
              "       [22, 25, 27, 33]])"
            ]
          },
          "metadata": {
            "tags": []
          },
          "execution_count": 80
        }
      ]
    },
    {
      "metadata": {
        "id": "Ka6mh_9qv-k8",
        "colab_type": "code",
        "outputId": "bf94c82d-4d12-4780-da13-05ac2d8272b1",
        "colab": {
          "base_uri": "https://localhost:8080/",
          "height": 85
        }
      },
      "cell_type": "code",
      "source": [
        "np.subtract(A, B)"
      ],
      "execution_count": 0,
      "outputs": [
        {
          "output_type": "execute_result",
          "data": {
            "text/plain": [
              "array([[ -2,   1,   3,   9],\n",
              "       [ -6,  -3,  -1,   5],\n",
              "       [-10,  -7,  -5,   1],\n",
              "       [-22, -19, -17, -11]])"
            ]
          },
          "metadata": {
            "tags": []
          },
          "execution_count": 81
        }
      ]
    },
    {
      "metadata": {
        "id": "cZwMd7qwv-lC",
        "colab_type": "code",
        "outputId": "e77dce3f-01f5-4aec-c554-29fae0203b98",
        "colab": {
          "base_uri": "https://localhost:8080/",
          "height": 85
        }
      },
      "cell_type": "code",
      "source": [
        "A - B"
      ],
      "execution_count": 0,
      "outputs": [
        {
          "output_type": "execute_result",
          "data": {
            "text/plain": [
              "array([[ -2,   1,   3,   9],\n",
              "       [ -6,  -3,  -1,   5],\n",
              "       [-10,  -7,  -5,   1],\n",
              "       [-22, -19, -17, -11]])"
            ]
          },
          "metadata": {
            "tags": []
          },
          "execution_count": 82
        }
      ]
    },
    {
      "metadata": {
        "id": "MoQICDNSv-lG",
        "colab_type": "code",
        "outputId": "76769a49-0c8a-4f39-e562-e078ad493d19",
        "colab": {
          "base_uri": "https://localhost:8080/",
          "height": 34
        }
      },
      "cell_type": "code",
      "source": [
        "np.transpose(B)"
      ],
      "execution_count": 0,
      "outputs": [
        {
          "output_type": "execute_result",
          "data": {
            "text/plain": [
              "array([[ 2,  6, 10, 22]])"
            ]
          },
          "metadata": {
            "tags": []
          },
          "execution_count": 83
        }
      ]
    },
    {
      "metadata": {
        "id": "aL-CLwMyv-lJ",
        "colab_type": "code",
        "outputId": "df9d49c8-5cc4-447c-e7bc-e2a7380c113b",
        "colab": {
          "base_uri": "https://localhost:8080/",
          "height": 85
        }
      },
      "cell_type": "code",
      "source": [
        "np.transpose(A)"
      ],
      "execution_count": 0,
      "outputs": [
        {
          "output_type": "execute_result",
          "data": {
            "text/plain": [
              "array([[ 0],\n",
              "       [ 3],\n",
              "       [ 5],\n",
              "       [11]])"
            ]
          },
          "metadata": {
            "tags": []
          },
          "execution_count": 84
        }
      ]
    },
    {
      "metadata": {
        "id": "mojwM474v-lM",
        "colab_type": "code",
        "outputId": "b681f30c-2b94-44f2-ccda-6a75d2ba2fe4",
        "colab": {
          "base_uri": "https://localhost:8080/",
          "height": 34
        }
      },
      "cell_type": "code",
      "source": [
        "np.dot(A, B)"
      ],
      "execution_count": 0,
      "outputs": [
        {
          "output_type": "execute_result",
          "data": {
            "text/plain": [
              "array([[310]])"
            ]
          },
          "metadata": {
            "tags": []
          },
          "execution_count": 85
        }
      ]
    },
    {
      "metadata": {
        "id": "hgrMqU7Vv-lO",
        "colab_type": "code",
        "outputId": "37a0f14d-7d5f-4543-8bb3-6c641945eda6",
        "colab": {
          "base_uri": "https://localhost:8080/",
          "height": 85
        }
      },
      "cell_type": "code",
      "source": [
        "np.dot(B, A)"
      ],
      "execution_count": 0,
      "outputs": [
        {
          "output_type": "execute_result",
          "data": {
            "text/plain": [
              "array([[  0,   6,  10,  22],\n",
              "       [  0,  18,  30,  66],\n",
              "       [  0,  30,  50, 110],\n",
              "       [  0,  66, 110, 242]])"
            ]
          },
          "metadata": {
            "tags": []
          },
          "execution_count": 86
        }
      ]
    },
    {
      "metadata": {
        "id": "LvQ2tubAv-lS",
        "colab_type": "code",
        "outputId": "0f7ff4ec-504c-414a-ebda-a0d91c3075d5",
        "colab": {
          "base_uri": "https://localhost:8080/",
          "height": 85
        }
      },
      "cell_type": "code",
      "source": [
        "C = np.identity(4)\n",
        "C"
      ],
      "execution_count": 0,
      "outputs": [
        {
          "output_type": "execute_result",
          "data": {
            "text/plain": [
              "array([[1., 0., 0., 0.],\n",
              "       [0., 1., 0., 0.],\n",
              "       [0., 0., 1., 0.],\n",
              "       [0., 0., 0., 1.]])"
            ]
          },
          "metadata": {
            "tags": []
          },
          "execution_count": 87
        }
      ]
    },
    {
      "metadata": {
        "id": "BxdD1AE1v-lW",
        "colab_type": "code",
        "outputId": "a62b5281-9a2d-4366-ffbc-219c4633f954",
        "colab": {
          "base_uri": "https://localhost:8080/",
          "height": 34
        }
      },
      "cell_type": "code",
      "source": [
        "np.dot(A, C)"
      ],
      "execution_count": 0,
      "outputs": [
        {
          "output_type": "execute_result",
          "data": {
            "text/plain": [
              "array([[ 0.,  3.,  5., 11.]])"
            ]
          },
          "metadata": {
            "tags": []
          },
          "execution_count": 88
        }
      ]
    },
    {
      "metadata": {
        "id": "uenvnegBv-lZ",
        "colab_type": "code",
        "outputId": "47bf4939-44cd-410f-881b-2cbd3c06a21c",
        "colab": {
          "base_uri": "https://localhost:8080/",
          "height": 85
        }
      },
      "cell_type": "code",
      "source": [
        "np.dot(C, B)"
      ],
      "execution_count": 0,
      "outputs": [
        {
          "output_type": "execute_result",
          "data": {
            "text/plain": [
              "array([[ 2.],\n",
              "       [ 6.],\n",
              "       [10.],\n",
              "       [22.]])"
            ]
          },
          "metadata": {
            "tags": []
          },
          "execution_count": 89
        }
      ]
    },
    {
      "metadata": {
        "id": "2moHWb5fv-lh",
        "colab_type": "text"
      },
      "cell_type": "markdown",
      "source": [
        "Построить обратную матрицу для векторов А и В нельзя."
      ]
    },
    {
      "metadata": {
        "id": "chEmhaSZv-li",
        "colab_type": "text"
      },
      "cell_type": "markdown",
      "source": [
        "2. Вычислите, по возможности не используя программирование: (5Е)–1, где Е – единичная матрица размера 5х5."
      ]
    },
    {
      "metadata": {
        "id": "BBr0IZIwv-lj",
        "colab_type": "text"
      },
      "cell_type": "markdown",
      "source": [
        "\\begin{equation}\n",
        "(5E)^{-1} = 5 * \\begin{bmatrix}\n",
        "1&0&0&0&0\\\\\n",
        "0&1&0&0&0\\\\\n",
        "0&0&1&0&0\\\\\n",
        "0&0&0&1&0\\\\\n",
        "0&0&0&0&1\\\\\n",
        "\\end{bmatrix} = \\begin{bmatrix}\n",
        "5&0&0&0&0\\\\\n",
        "0&5&0&0&0\\\\\n",
        "0&0&5&0&0\\\\\n",
        "0&0&0&5&0\\\\\n",
        "0&0&0&0&5\\\\\n",
        "\\end{bmatrix} = \\begin{bmatrix}\n",
        "0.2&0&0&0&0\\\\\n",
        "0&0.2&0&0&0\\\\\n",
        "0&0&0.2&0&0\\\\\n",
        "0&0&0&0.2&0\\\\\n",
        "0&0&0&0&0.2\\\\\n",
        "\\end{bmatrix}\n",
        "\\end{equation}"
      ]
    },
    {
      "metadata": {
        "id": "nkLuFtLKv-ll",
        "colab_type": "text"
      },
      "cell_type": "markdown",
      "source": [
        "### Задание 2.\n",
        "Вычислите определитель:"
      ]
    },
    {
      "metadata": {
        "id": "3o28gmCHv-ln",
        "colab_type": "text"
      },
      "cell_type": "markdown",
      "source": [
        "\\begin{equation}\n",
        "det \\begin{bmatrix}\n",
        "1&2&3\\\\\n",
        "4&0&6\\\\\n",
        "7&8&9\\\\\n",
        "\\end{bmatrix} = - det \\begin{bmatrix}\n",
        "4&0&6\\\\\n",
        "1&2&3\\\\\n",
        "7&8&9\\\\\n",
        "\\end{bmatrix} = - 4 * \\begin{bmatrix}\n",
        "2&3\\\\\n",
        "8&9\\\\\n",
        "\\end{bmatrix} + 0 * \\begin{bmatrix}\n",
        "1&3\\\\\n",
        "7&9\\\\\n",
        "\\end{bmatrix} + 6 * \\begin{bmatrix}\n",
        "2&3\\\\\n",
        "8&9\\\\\n",
        "\\end{bmatrix} = -4(2*9 -3*8) + 6(2*9 - 3*8)=\\\\\n",
        "=-4(18 - 24) - 6(18 - 24) = 24 + 36 = 60\\\\\n",
        "\\end{equation}"
      ]
    },
    {
      "metadata": {
        "id": "Vch-8Tg5v-lp",
        "colab_type": "text"
      },
      "cell_type": "markdown",
      "source": [
        "_Ответ: 60_"
      ]
    },
    {
      "metadata": {
        "id": "nzweyZYdv-lq",
        "colab_type": "text"
      },
      "cell_type": "markdown",
      "source": [
        "### Задание 3.\n",
        "1. Вычислите матрицу, обратную данной:"
      ]
    },
    {
      "metadata": {
        "id": "54X3NCizv-lr",
        "colab_type": "text"
      },
      "cell_type": "markdown",
      "source": [
        "\\begin{equation}\n",
        "\\begin{bmatrix}\n",
        "1&2&3\\\\\n",
        "4&0&6\\\\\n",
        "7&8&9\\\\\n",
        "\\end{bmatrix}^{-1} = \\begin{bmatrix}\n",
        "1&4&7\\\\\n",
        "2&0&8\\\\\n",
        "3&6&9\\\\\n",
        "\\end{bmatrix}\n",
        "\\end{equation}"
      ]
    },
    {
      "metadata": {
        "id": "xw6QsEoTv-lt",
        "colab_type": "code",
        "outputId": "7fa8f558-182b-4c34-b98e-04c23cc44ea6",
        "colab": {
          "base_uri": "https://localhost:8080/",
          "height": 68
        }
      },
      "cell_type": "code",
      "source": [
        "A = np.array([[1, 2, 3], [4, 0, 6], [7, 8, 9]])\n",
        "A.T"
      ],
      "execution_count": 0,
      "outputs": [
        {
          "output_type": "execute_result",
          "data": {
            "text/plain": [
              "array([[1, 4, 7],\n",
              "       [2, 0, 8],\n",
              "       [3, 6, 9]])"
            ]
          },
          "metadata": {
            "tags": []
          },
          "execution_count": 90
        }
      ]
    },
    {
      "metadata": {
        "id": "Gdqih6G-v-lz",
        "colab_type": "text"
      },
      "cell_type": "markdown",
      "source": [
        "2. Приведтите пример матрицы 4х4, ранг которой равен 1."
      ]
    },
    {
      "metadata": {
        "id": "RIkVkwKZv-l0",
        "colab_type": "text"
      },
      "cell_type": "markdown",
      "source": [
        "\\begin{bmatrix}\n",
        "1&2&1&1\\\\\n",
        "1&2&1&1\\\\\n",
        "1&2&1&1\\\\\n",
        "1&2&1&1\\\\\n",
        "\\end{bmatrix}"
      ]
    },
    {
      "metadata": {
        "id": "ENIQQUpXv-l1",
        "colab_type": "code",
        "outputId": "c130471d-301c-4a0a-9263-55043198f1c9",
        "colab": {
          "base_uri": "https://localhost:8080/",
          "height": 34
        }
      },
      "cell_type": "code",
      "source": [
        "B = np.array([[1, 2, 1, 1], [1, 2, 1, 1], [1, 2, 1, 1], [1, 2, 1, 1]])\n",
        "np.linalg.matrix_rank(B, 0.001)"
      ],
      "execution_count": 0,
      "outputs": [
        {
          "output_type": "execute_result",
          "data": {
            "text/plain": [
              "1"
            ]
          },
          "metadata": {
            "tags": []
          },
          "execution_count": 91
        }
      ]
    },
    {
      "metadata": {
        "id": "2--54UbZv-l3",
        "colab_type": "text"
      },
      "cell_type": "markdown",
      "source": [
        "### Задание 4.\n",
        "Вычислите скалярное произведение двух векторов:  \n",
        "(1, 5)  и  (2, 8)"
      ]
    },
    {
      "metadata": {
        "id": "l32zUs9cv-l3",
        "colab_type": "text"
      },
      "cell_type": "markdown",
      "source": [
        "$A = (5, 6)$\n",
        "\n",
        "$B = (2, 8)$\n",
        "\n",
        "$A * B = 5 * 2 + 6 * 8 = 58$"
      ]
    },
    {
      "metadata": {
        "id": "KmpX4gk0v-l4",
        "colab_type": "code",
        "outputId": "73d0847e-66a5-4ca3-c2f1-90bb573b6f30",
        "colab": {
          "base_uri": "https://localhost:8080/",
          "height": 34
        }
      },
      "cell_type": "code",
      "source": [
        "A = np.array([5, 6])\n",
        "B = np.array([2, 8])\n",
        "np.dot(A, B)"
      ],
      "execution_count": 0,
      "outputs": [
        {
          "output_type": "execute_result",
          "data": {
            "text/plain": [
              "58"
            ]
          },
          "metadata": {
            "tags": []
          },
          "execution_count": 92
        }
      ]
    },
    {
      "metadata": {
        "id": "G114p5ijv-l-",
        "colab_type": "text"
      },
      "cell_type": "markdown",
      "source": [
        "### Задание 5.\n",
        "Вычислите смешанное произведение трех векторов:\n",
        "(1, 5, 0), (2, 8, 7) и (7, 1.5, 3)"
      ]
    },
    {
      "metadata": {
        "id": "P9dUVVoTv-l_",
        "colab_type": "code",
        "colab": {}
      },
      "cell_type": "code",
      "source": [
        "A = np.array([1, 5, 8])\n",
        "B = np.array([2, 8, 7])\n",
        "C = np.array([7, 1.5, 3])"
      ],
      "execution_count": 0,
      "outputs": []
    },
    {
      "metadata": {
        "id": "gVtN5UwTv-mD",
        "colab_type": "text"
      },
      "cell_type": "markdown",
      "source": [
        "\\begin{equation}\n",
        "A x B * C\\\\\n",
        "A x B =\n",
        "\\begin{bmatrix}\n",
        "i&j&k\\\\\n",
        "1&5&8\\\\\n",
        "2&8&7\\\\\n",
        "\\end{bmatrix} = \\begin{bmatrix}\n",
        "(5 * 7 - 8 * 8) & -(1 * 7 - 8 * 2) & (1 * 8 - 5 * 2)\\\\\n",
        "\\end{bmatrix} = \\begin{bmatrix}\n",
        "-29 & 9 & -2\\\\\n",
        "\\end{bmatrix} \\\\\n",
        "\\begin{bmatrix}\n",
        "-29 & 9 & -2\\\\\n",
        "\\end{bmatrix} * \\begin{bmatrix}\n",
        "7 & 1.5 & 3\\\\\n",
        "\\end{bmatrix} = -29 * 7 + (9 * 1.5) + (-2 * 3) = -203 + 13.5 - 6 = -195.5\\\\ \n",
        "\\end{equation}"
      ]
    },
    {
      "metadata": {
        "id": "pv4tzxbEv-mD",
        "colab_type": "text"
      },
      "cell_type": "markdown",
      "source": [
        "_Ответ:_ - 195.5"
      ]
    },
    {
      "metadata": {
        "id": "ZBivG_Ayv-mE",
        "colab_type": "code",
        "outputId": "16290046-8f88-4c97-9fbf-69401c79677c",
        "colab": {
          "base_uri": "https://localhost:8080/",
          "height": 34
        }
      },
      "cell_type": "code",
      "source": [
        "AxB = np.cross(A, B)\n",
        "AxB"
      ],
      "execution_count": 0,
      "outputs": [
        {
          "output_type": "execute_result",
          "data": {
            "text/plain": [
              "array([-29,   9,  -2])"
            ]
          },
          "metadata": {
            "tags": []
          },
          "execution_count": 94
        }
      ]
    },
    {
      "metadata": {
        "id": "eKpLpwzXv-mH",
        "colab_type": "code",
        "outputId": "41e16825-16f0-4372-ebf9-60b354b21310",
        "colab": {
          "base_uri": "https://localhost:8080/",
          "height": 34
        }
      },
      "cell_type": "code",
      "source": [
        "np.dot(AxB, C)"
      ],
      "execution_count": 0,
      "outputs": [
        {
          "output_type": "execute_result",
          "data": {
            "text/plain": [
              "-195.5"
            ]
          },
          "metadata": {
            "tags": []
          },
          "execution_count": 95
        }
      ]
    },
    {
      "metadata": {
        "id": "OHs894wSxDIl",
        "colab_type": "text"
      },
      "cell_type": "markdown",
      "source": [
        "# Практическое задание 6."
      ]
    },
    {
      "metadata": {
        "id": "bHFbDYBnxOuw",
        "colab_type": "text"
      },
      "cell_type": "markdown",
      "source": [
        "1. Решите линейную систему:\n",
        "\n",
        "\\begin{equation}\n",
        "\\begin{bmatrix}\n",
        "1&2&3\\\\\n",
        "4&0&6\\\\\n",
        "7&8&9\\\\\n",
        "\\end{bmatrix} * X = \\begin{bmatrix}\n",
        "12\\\\\n",
        "2\\\\\n",
        "1\\\\\n",
        "\\end{bmatrix}\n",
        "\\end{equation}"
      ]
    },
    {
      "metadata": {
        "id": "oARr1RVNzaV1",
        "colab_type": "code",
        "outputId": "0eb11cff-e700-47ea-8fd0-88b3a501b28d",
        "colab": {
          "base_uri": "https://localhost:8080/",
          "height": 34
        }
      },
      "cell_type": "code",
      "source": [
        "A = np.array([[1, 2, 3], [4, 0, 6], [7, 8, 9]])\n",
        "B = np.array([12, 2, 1])\n",
        "X = np.linalg.solve(A, B)\n",
        "print(f'Решение уравнения - {X}')"
      ],
      "execution_count": 0,
      "outputs": [
        {
          "output_type": "stream",
          "text": [
            "Решение уравнения - [-9.2         0.9         6.46666667]\n"
          ],
          "name": "stdout"
        }
      ]
    },
    {
      "metadata": {
        "id": "aDUK2-D70V6y",
        "colab_type": "code",
        "outputId": "586ca238-c550-48f2-8b7a-aa3c28b0e51b",
        "colab": {
          "base_uri": "https://localhost:8080/",
          "height": 34
        }
      },
      "cell_type": "code",
      "source": [
        "A1 = np.linalg.inv(A)\n",
        "X1 = np.dot(A1, B)\n",
        "print(f'Решение уравнения = {X1}')"
      ],
      "execution_count": 0,
      "outputs": [
        {
          "output_type": "stream",
          "text": [
            "Решение уравнения = [-9.2         0.9         6.46666667]\n"
          ],
          "name": "stdout"
        }
      ]
    },
    {
      "metadata": {
        "id": "f7RwL8Ff1GgC",
        "colab_type": "text"
      },
      "cell_type": "markdown",
      "source": [
        "2. Найдите псевдорешение:"
      ]
    },
    {
      "metadata": {
        "id": "Ok7hlviT6rth",
        "colab_type": "text"
      },
      "cell_type": "markdown",
      "source": [
        "$$x + 2y – z = 1$$\n",
        "$$3x – 4y = 7$$\n",
        "$$8x – 5y + 2z = 12$$\n",
        "$$2x – 5z = 7$$\n",
        "$$11x +4y – 7z = 15$$"
      ]
    },
    {
      "metadata": {
        "id": "ytvHrehP1EUD",
        "colab_type": "code",
        "outputId": "a035374f-c4f9-45c1-e92d-36f24895c387",
        "colab": {
          "base_uri": "https://localhost:8080/",
          "height": 156
        }
      },
      "cell_type": "code",
      "source": [
        "A = np.array([[1, 2, -1], [3, -4, 0], [8, -5, 2], [2, 0, -5], [11, 4, -7]])\n",
        "B = np.array([1, 7, 12, 7, 15])\n",
        "np.linalg.lstsq(A, B)"
      ],
      "execution_count": 0,
      "outputs": [
        {
          "output_type": "stream",
          "text": [
            "/usr/local/lib/python3.6/dist-packages/ipykernel_launcher.py:3: FutureWarning: `rcond` parameter will change to the default of machine precision times ``max(M, N)`` where M and N are the input matrix dimensions.\n",
            "To use the future default and silence this warning we advise to pass `rcond=None`, to keep using the old, explicitly pass `rcond=-1`.\n",
            "  This is separate from the ipykernel package so we can avoid doing imports until\n"
          ],
          "name": "stderr"
        },
        {
          "output_type": "execute_result",
          "data": {
            "text/plain": [
              "(array([ 1.13919353, -0.90498444, -0.9009803 ]),\n",
              " array([0.71523211]),\n",
              " 3,\n",
              " array([15.2817306 ,  9.59852942,  3.65197794]))"
            ]
          },
          "metadata": {
            "tags": []
          },
          "execution_count": 98
        }
      ]
    },
    {
      "metadata": {
        "id": "PLw_F602Ftg2",
        "colab_type": "text"
      },
      "cell_type": "markdown",
      "source": [
        "*Ответ:* [1.13919353, -0.90498444, -0.9009803]"
      ]
    },
    {
      "metadata": {
        "id": "ulbJSK6DF_OC",
        "colab_type": "text"
      },
      "cell_type": "markdown",
      "source": [
        "3. Сколько решений имеет линейная система:\n",
        "\n",
        "\\begin{equation}\n",
        "\\begin{bmatrix}\n",
        "1&2&3\\\\\n",
        "4&5&6\\\\\n",
        "7&8&9\\\\\n",
        "\\end{bmatrix} * X = \n",
        "\\begin{bmatrix}\n",
        "12\\\\\n",
        "2\\\\\n",
        "1\\\\\n",
        "\\end{bmatrix}\n",
        "\\end{equation}\n",
        "\n",
        "Если ноль – то измените вектор правой части так, чтобы система стала совместной, и решите ее."
      ]
    },
    {
      "metadata": {
        "id": "vMH_Fes_JQ8p",
        "colab_type": "code",
        "outputId": "60d2f315-81c5-48eb-b18e-e1918823fab0",
        "colab": {
          "base_uri": "https://localhost:8080/",
          "height": 102
        }
      },
      "cell_type": "code",
      "source": [
        "A = np.array([[1, 2, 3], [4, 5, 6], [7, 8, 9]])\n",
        "B = np.array([[12, 2, 1]])\n",
        "C = np.concatenate((A, B.T), axis=1)\n",
        "print(C)\n",
        "\n",
        "print(f'\\nРанг матрицы A = {np.linalg.matrix_rank(A)}, ранг матрицы C =  {np.linalg.matrix_rank(C)}')"
      ],
      "execution_count": 0,
      "outputs": [
        {
          "output_type": "stream",
          "text": [
            "[[ 1  2  3 12]\n",
            " [ 4  5  6  2]\n",
            " [ 7  8  9  1]]\n",
            "\n",
            "Ранг матрицы A = 2, ранг матрицы C =  3\n"
          ],
          "name": "stdout"
        }
      ]
    },
    {
      "metadata": {
        "id": "EgTFQeQdLogi",
        "colab_type": "text"
      },
      "cell_type": "markdown",
      "source": [
        "Т.к. ранг исходной матрицы не равен рангу расширенной матрицы, то система не имеет решений."
      ]
    },
    {
      "metadata": {
        "id": "nzOT6qrZKbLe",
        "colab_type": "code",
        "outputId": "52a63f8f-9324-4c06-eb3c-62056a0c5c5a",
        "colab": {
          "base_uri": "https://localhost:8080/",
          "height": 85
        }
      },
      "cell_type": "code",
      "source": [
        "A = np.array([[1, 2, 3], [4, 5, 6], [7, 8, 9]])\n",
        "B = np.array([[12, 12, 12]])\n",
        "C = np.concatenate((A, B.T), axis=1)\n",
        "print(C)\n",
        "\n",
        "np.linalg.matrix_rank(A), np.linalg.matrix_rank(C)"
      ],
      "execution_count": 0,
      "outputs": [
        {
          "output_type": "stream",
          "text": [
            "[[ 1  2  3 12]\n",
            " [ 4  5  6 12]\n",
            " [ 7  8  9 12]]\n"
          ],
          "name": "stdout"
        },
        {
          "output_type": "execute_result",
          "data": {
            "text/plain": [
              "(2, 2)"
            ]
          },
          "metadata": {
            "tags": []
          },
          "execution_count": 100
        }
      ]
    },
    {
      "metadata": {
        "id": "xfZozLLuMKZP",
        "colab_type": "code",
        "outputId": "4b0c0a1d-f1f2-4a74-dd59-b21861fb4f9c",
        "colab": {
          "base_uri": "https://localhost:8080/",
          "height": 190
        }
      },
      "cell_type": "code",
      "source": [
        "np.linalg.lstsq(A, B.T)"
      ],
      "execution_count": 0,
      "outputs": [
        {
          "output_type": "stream",
          "text": [
            "/usr/local/lib/python3.6/dist-packages/ipykernel_launcher.py:1: FutureWarning: `rcond` parameter will change to the default of machine precision times ``max(M, N)`` where M and N are the input matrix dimensions.\n",
            "To use the future default and silence this warning we advise to pass `rcond=None`, to keep using the old, explicitly pass `rcond=-1`.\n",
            "  \"\"\"Entry point for launching an IPython kernel.\n"
          ],
          "name": "stderr"
        },
        {
          "output_type": "execute_result",
          "data": {
            "text/plain": [
              "(array([[-6.0000000e+00],\n",
              "        [ 8.8817842e-16],\n",
              "        [ 6.0000000e+00]]),\n",
              " array([], dtype=float64),\n",
              " 2,\n",
              " array([1.68481034e+01, 1.06836951e+00, 4.41842475e-16]))"
            ]
          },
          "metadata": {
            "tags": []
          },
          "execution_count": 101
        }
      ]
    },
    {
      "metadata": {
        "id": "_7QsuBlDj-5K",
        "colab_type": "text"
      },
      "cell_type": "markdown",
      "source": [
        "*Ответ:* [[-6.0000000e+00], [ 8.8817842e-16], [ 6.0000000e+00]]"
      ]
    },
    {
      "metadata": {
        "id": "DysSlbRLz8I2",
        "colab_type": "text"
      },
      "cell_type": "markdown",
      "source": [
        "4. Вычислите LU-разложение матрицы:\n",
        "\\begin{equation}\n",
        "\\begin{bmatrix}\n",
        "1&2&3\\\\\n",
        "2&16&21\\\\\n",
        "4&28&73\\\\\n",
        "\\end{bmatrix}\n",
        "\\end{equation}\n",
        "\n",
        "После этого придумайте вектор правых частей и решите полученную линейную систему трех уравнений с данной матрицей."
      ]
    },
    {
      "metadata": {
        "id": "QphmqVb10M7m",
        "colab_type": "code",
        "outputId": "ef0ea0c6-9013-4e50-a1cb-09b2c0749069",
        "colab": {
          "base_uri": "https://localhost:8080/",
          "height": 221
        }
      },
      "cell_type": "code",
      "source": [
        "A = np.array([[1, 2, 3], [2, 16, 21], [4, 28, 73]])\n",
        "P, L, U = scipy.linalg.lu(A)\n",
        "print(f'P = \\n{P}\\nL = \\n{L}\\nU = \\n{U}')"
      ],
      "execution_count": 0,
      "outputs": [
        {
          "output_type": "stream",
          "text": [
            "P = \n",
            "[[0. 1. 0.]\n",
            " [0. 0. 1.]\n",
            " [1. 0. 0.]]\n",
            "L = \n",
            "[[ 1.    0.    0.  ]\n",
            " [ 0.25  1.    0.  ]\n",
            " [ 0.5  -0.4   1.  ]]\n",
            "U = \n",
            "[[  4.    28.    73.  ]\n",
            " [  0.    -5.   -15.25]\n",
            " [  0.     0.   -21.6 ]]\n"
          ],
          "name": "stdout"
        }
      ]
    },
    {
      "metadata": {
        "id": "85IfYpG40t_j",
        "colab_type": "code",
        "outputId": "8a79275d-9585-4718-a57e-f0c43239429e",
        "colab": {
          "base_uri": "https://localhost:8080/",
          "height": 34
        }
      },
      "cell_type": "code",
      "source": [
        "A = np.array([[4, 28, 73], [1, 2, 3], [2, 16, 21]])\n",
        "B = np.array([10, 12, 5])\n",
        "y = np.linalg.solve(L, B)\n",
        "y"
      ],
      "execution_count": 0,
      "outputs": [
        {
          "output_type": "execute_result",
          "data": {
            "text/plain": [
              "array([10. ,  9.5,  3.8])"
            ]
          },
          "metadata": {
            "tags": []
          },
          "execution_count": 103
        }
      ]
    },
    {
      "metadata": {
        "id": "dm11Wo9k61yt",
        "colab_type": "code",
        "outputId": "7801c2a7-c23f-4d88-b937-c87d1f3ed43c",
        "colab": {
          "base_uri": "https://localhost:8080/",
          "height": 34
        }
      },
      "cell_type": "code",
      "source": [
        "x = np.linalg.solve(U, y)\n",
        "x"
      ],
      "execution_count": 0,
      "outputs": [
        {
          "output_type": "execute_result",
          "data": {
            "text/plain": [
              "array([15.25462963, -1.36342593, -0.17592593])"
            ]
          },
          "metadata": {
            "tags": []
          },
          "execution_count": 104
        }
      ]
    },
    {
      "metadata": {
        "id": "OkmSi7ZV69mm",
        "colab_type": "code",
        "outputId": "eb4f07cd-8ce1-4053-d68b-e0a43653a076",
        "colab": {
          "base_uri": "https://localhost:8080/",
          "height": 34
        }
      },
      "cell_type": "code",
      "source": [
        "x = np.linalg.solve(A, B)\n",
        "x"
      ],
      "execution_count": 0,
      "outputs": [
        {
          "output_type": "execute_result",
          "data": {
            "text/plain": [
              "array([15.25462963, -1.36342593, -0.17592593])"
            ]
          },
          "metadata": {
            "tags": []
          },
          "execution_count": 105
        }
      ]
    },
    {
      "metadata": {
        "id": "Jnjs-DU39pcO",
        "colab_type": "text"
      },
      "cell_type": "markdown",
      "source": [
        "5. Найдите нормальное псевдорешение недоопределенной системы:\n",
        "\\begin{equation}\n",
        "x + 2y – z = 1\\\\\n",
        "8x – 5y + 2z = 12\\\\\n",
        "\\end{equation}\n",
        "\n",
        "Для этого определите функцию Q(x,y,z), равную норме решения, и найдите ее минимум."
      ]
    },
    {
      "metadata": {
        "id": "MnYIxlyB7NEm",
        "colab_type": "code",
        "outputId": "d8f1f6a3-d233-4627-e882-db44eeef3f53",
        "colab": {
          "base_uri": "https://localhost:8080/",
          "height": 444
        }
      },
      "cell_type": "code",
      "source": [
        "def Q(x, y, z):\n",
        "  return x ** 2 + y ** 2 + z ** 2\n",
        "\n",
        "from pylab import figure\n",
        "from mpl_toolkits.mplot3d import Axes3D\n",
        "fig = figure()\n",
        "ax = Axes3D(fig)\n",
        "X = np.arange(-2, 2, 0.5)\n",
        "Y = np.arange(-2, 2, 0.5)\n",
        "X, Y = np.meshgrid(X, Y)\n",
        "Z1 = X + 2 * Y - 1\n",
        "Z2 = 12 - 8 * X + 5 * Y\n",
        "\n",
        "ax.plot_wireframe(X, Y, Q(X, Y, Z1), color='red')\n",
        "ax.plot_wireframe(X, Y, Q(X, Y, Z2))\n"
      ],
      "execution_count": 0,
      "outputs": [
        {
          "output_type": "execute_result",
          "data": {
            "text/plain": [
              "<mpl_toolkits.mplot3d.art3d.Line3DCollection at 0x7f6fa444ee80>"
            ]
          },
          "metadata": {
            "tags": []
          },
          "execution_count": 106
        },
        {
          "output_type": "display_data",
          "data": {
            "image/png": "[encoded data removed]",
            "text/plain": [
              "<Figure size 576x396 with 1 Axes>"
            ]
          },
          "metadata": {
            "tags": []
          }
        }
      ]
    },
    {
      "metadata": {
        "id": "eWafCn1c-jBR",
        "colab_type": "code",
        "outputId": "9c0e3b1d-fc8e-4165-ca41-845ac414c12e",
        "colab": {
          "base_uri": "https://localhost:8080/",
          "height": 156
        }
      },
      "cell_type": "code",
      "source": [
        "np.linalg.lstsq(np.array([[1, 2, -1], [8, -5, 2]]), np.array([1, 12]))"
      ],
      "execution_count": 0,
      "outputs": [
        {
          "output_type": "stream",
          "text": [
            "/usr/local/lib/python3.6/dist-packages/ipykernel_launcher.py:1: FutureWarning: `rcond` parameter will change to the default of machine precision times ``max(M, N)`` where M and N are the input matrix dimensions.\n",
            "To use the future default and silence this warning we advise to pass `rcond=None`, to keep using the old, explicitly pass `rcond=-1`.\n",
            "  \"\"\"Entry point for launching an IPython kernel.\n"
          ],
          "name": "stderr"
        },
        {
          "output_type": "execute_result",
          "data": {
            "text/plain": [
              "(array([ 1.38191882, -0.18081181,  0.0202952 ]),\n",
              " array([], dtype=float64),\n",
              " 2,\n",
              " array([9.65316119, 2.41173777]))"
            ]
          },
          "metadata": {
            "tags": []
          },
          "execution_count": 107
        }
      ]
    },
    {
      "metadata": {
        "id": "i7TPnWNmmtoa",
        "colab_type": "text"
      },
      "cell_type": "markdown",
      "source": [
        "*Ответ:* [ 1.38191882, -0.18081181,  0.0202952 ]"
      ]
    },
    {
      "metadata": {
        "id": "IDfnmGRa-Hrf",
        "colab_type": "text"
      },
      "cell_type": "markdown",
      "source": [
        "6. Найдите одно из псевдорешений вырожденной системы:\n",
        "\\begin{equation}\n",
        "\\begin{bmatrix}\n",
        "1&2&3\\\\\n",
        "4&5&6\\\\\n",
        "7&8&9\\\\\n",
        "\\end{bmatrix} * X = \n",
        "\\begin{bmatrix}\n",
        "2\\\\5\\\\11\\\\\n",
        "\\end{bmatrix}\n",
        "\\end{equation}\n",
        "Попробуйте также отыскать и нормальное псевдорешение.\n"
      ]
    },
    {
      "metadata": {
        "id": "bRbyUYz2-gjw",
        "colab_type": "code",
        "outputId": "371b481f-e00e-469b-d2fe-0f7b591322be",
        "colab": {
          "base_uri": "https://localhost:8080/",
          "height": 153
        }
      },
      "cell_type": "code",
      "source": [
        "A = np.array([[1, 2, 3], [4, 5, 6], [7, 8, 9]])\n",
        "B = np.array([2, 5, 11])\n",
        "Q, R = np.linalg.qr(A)\n",
        "print(f'Q = \\n{Q}\\nR=\\n{R}')"
      ],
      "execution_count": 0,
      "outputs": [
        {
          "output_type": "stream",
          "text": [
            "Q = \n",
            "[[-0.12309149  0.90453403  0.40824829]\n",
            " [-0.49236596  0.30151134 -0.81649658]\n",
            " [-0.86164044 -0.30151134  0.40824829]]\n",
            "R=\n",
            "[[-8.12403840e+00 -9.60113630e+00 -1.10782342e+01]\n",
            " [ 0.00000000e+00  9.04534034e-01  1.80906807e+00]\n",
            " [ 0.00000000e+00  0.00000000e+00 -8.88178420e-16]]\n"
          ],
          "name": "stdout"
        }
      ]
    },
    {
      "metadata": {
        "id": "PbIr7q5pXGu4",
        "colab_type": "code",
        "outputId": "dbb4c985-0e98-4c1e-d640-e6a26e73d755",
        "colab": {
          "base_uri": "https://localhost:8080/",
          "height": 51
        }
      },
      "cell_type": "code",
      "source": [
        "R1 = R[:2, :2]\n",
        "R1"
      ],
      "execution_count": 0,
      "outputs": [
        {
          "output_type": "execute_result",
          "data": {
            "text/plain": [
              "array([[-8.1240384 , -9.6011363 ],\n",
              "       [ 0.        ,  0.90453403]])"
            ]
          },
          "metadata": {
            "tags": []
          },
          "execution_count": 109
        }
      ]
    },
    {
      "metadata": {
        "id": "dOwX7iwKXkOx",
        "colab_type": "code",
        "outputId": "db5aeab6-f784-4820-9117-ca1b28ad3501",
        "colab": {
          "base_uri": "https://localhost:8080/",
          "height": 34
        }
      },
      "cell_type": "code",
      "source": [
        "B1 = np.dot(Q.T, B)[:2]\n",
        "B1"
      ],
      "execution_count": 0,
      "outputs": [
        {
          "output_type": "execute_result",
          "data": {
            "text/plain": [
              "array([-1.21860576e+01,  3.55271368e-15])"
            ]
          },
          "metadata": {
            "tags": []
          },
          "execution_count": 110
        }
      ]
    },
    {
      "metadata": {
        "id": "0rvcB1bbXwhx",
        "colab_type": "code",
        "outputId": "c4226161-83fc-4216-d220-54baefc508a1",
        "colab": {
          "base_uri": "https://localhost:8080/",
          "height": 34
        }
      },
      "cell_type": "code",
      "source": [
        "X1 = np.linalg.solve(R1, B1)\n",
        "X1"
      ],
      "execution_count": 0,
      "outputs": [
        {
          "output_type": "execute_result",
          "data": {
            "text/plain": [
              "array([1.50000000e+00, 3.92767275e-15])"
            ]
          },
          "metadata": {
            "tags": []
          },
          "execution_count": 111
        }
      ]
    },
    {
      "metadata": {
        "id": "ChS374HAYAey",
        "colab_type": "code",
        "outputId": "296dea7d-f503-4bdd-f9da-d8eea50bf9f4",
        "colab": {
          "base_uri": "https://localhost:8080/",
          "height": 51
        }
      },
      "cell_type": "code",
      "source": [
        "X = np.append(X1, 0) \n",
        "print(X)\n",
        "np.linalg.norm(X)"
      ],
      "execution_count": 0,
      "outputs": [
        {
          "output_type": "stream",
          "text": [
            "[1.50000000e+00 3.92767275e-15 0.00000000e+00]\n"
          ],
          "name": "stdout"
        },
        {
          "output_type": "execute_result",
          "data": {
            "text/plain": [
              "1.499999999999996"
            ]
          },
          "metadata": {
            "tags": []
          },
          "execution_count": 112
        }
      ]
    },
    {
      "metadata": {
        "id": "czhsVqq6m620",
        "colab_type": "text"
      },
      "cell_type": "markdown",
      "source": [
        "*Ответ:* [1.50000000e+00 3.92767275e-15 0.00000000e+00]"
      ]
    },
    {
      "metadata": {
        "id": "_Uzcf5qNY2nc",
        "colab_type": "text"
      },
      "cell_type": "markdown",
      "source": [
        "Найдём решение с минимальной нормой."
      ]
    },
    {
      "metadata": {
        "id": "C3N6EXX1YPCH",
        "colab_type": "code",
        "outputId": "0ef0de83-821c-49dc-cb84-a8f6f8833804",
        "colab": {
          "base_uri": "https://localhost:8080/",
          "height": 122
        }
      },
      "cell_type": "code",
      "source": [
        "X_min = np.linalg.lstsq(A, B)[0]\n",
        "print(X_min)\n",
        "np.linalg.norm(X_min)"
      ],
      "execution_count": 0,
      "outputs": [
        {
          "output_type": "stream",
          "text": [
            "[ 1.25  0.5  -0.25]\n"
          ],
          "name": "stdout"
        },
        {
          "output_type": "stream",
          "text": [
            "/usr/local/lib/python3.6/dist-packages/ipykernel_launcher.py:1: FutureWarning: `rcond` parameter will change to the default of machine precision times ``max(M, N)`` where M and N are the input matrix dimensions.\n",
            "To use the future default and silence this warning we advise to pass `rcond=None`, to keep using the old, explicitly pass `rcond=-1`.\n",
            "  \"\"\"Entry point for launching an IPython kernel.\n"
          ],
          "name": "stderr"
        },
        {
          "output_type": "execute_result",
          "data": {
            "text/plain": [
              "1.3693063937629126"
            ]
          },
          "metadata": {
            "tags": []
          },
          "execution_count": 113
        }
      ]
    },
    {
      "metadata": {
        "id": "1BZ4H-t5nEcp",
        "colab_type": "text"
      },
      "cell_type": "markdown",
      "source": [
        "*Ответ:* [ 1.25  0.5  -0.25]"
      ]
    }
  ]
}