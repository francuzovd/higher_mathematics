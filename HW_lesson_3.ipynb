{
  "nbformat": 4,
  "nbformat_minor": 0,
  "metadata": {
    "colab": {
      "name": "HW_lesson_3.ipynb",
      "version": "0.3.2",
      "provenance": [],
      "collapsed_sections": [],
      "include_colab_link": true
    },
    "kernelspec": {
      "name": "python3",
      "display_name": "Python 3"
    }
  },
  "cells": [
    {
      "cell_type": "markdown",
      "metadata": {
        "id": "view-in-github",
        "colab_type": "text"
      },
      "source": [
        "<a href=\"https://colab.research.google.com/github/francuzovd/higher_mathematics/blob/master/HW_lesson_3.ipynb\" target=\"_parent\"><img src=\"https://colab.research.google.com/assets/colab-badge.svg\" alt=\"Open In Colab\"/></a>"
      ]
    },
    {
      "metadata": {
        "id": "Uoxntbmfw2qx",
        "colab_type": "code",
        "colab": {}
      },
      "cell_type": "code",
      "source": [
        "import numpy as np\n",
        "import pandas as pd\n",
        "import matplotlib.pyplot as plt"
      ],
      "execution_count": 0,
      "outputs": []
    },
    {
      "metadata": {
        "id": "9dvqP8dyxBRH",
        "colab_type": "code",
        "colab": {}
      },
      "cell_type": "code",
      "source": [
        ""
      ],
      "execution_count": 0,
      "outputs": []
    },
    {
      "metadata": {
        "id": "OHs894wSxDIl",
        "colab_type": "text"
      },
      "cell_type": "markdown",
      "source": [
        "# Практическое задание 6."
      ]
    },
    {
      "metadata": {
        "id": "bHFbDYBnxOuw",
        "colab_type": "text"
      },
      "cell_type": "markdown",
      "source": [
        "1. Решите линейную систему:"
      ]
    },
    {
      "metadata": {
        "id": "oARr1RVNzaV1",
        "colab_type": "code",
        "outputId": "39b62649-b20c-4cd2-a1f3-6d67c9dd0065",
        "colab": {
          "base_uri": "https://localhost:8080/",
          "height": 34
        }
      },
      "cell_type": "code",
      "source": [
        "A = np.array([[1, 2, 3], [4, 0, 6], [7, 8, 9]])\n",
        "B = np.array([12, 2, 1])\n",
        "X = np.linalg.solve(A, B)\n",
        "print(f'Решение уравнения - {X}')"
      ],
      "execution_count": 2,
      "outputs": [
        {
          "output_type": "stream",
          "text": [
            "Решение уравнения - [-9.2         0.9         6.46666667]\n"
          ],
          "name": "stdout"
        }
      ]
    },
    {
      "metadata": {
        "id": "aDUK2-D70V6y",
        "colab_type": "code",
        "outputId": "4157cc21-be58-43d6-be59-1b59e95c1a61",
        "colab": {
          "base_uri": "https://localhost:8080/",
          "height": 34
        }
      },
      "cell_type": "code",
      "source": [
        "A1 = np.linalg.inv(A)\n",
        "X1 = np.dot(A1, B)\n",
        "print(f'Решение уравнения = {X1}')"
      ],
      "execution_count": 3,
      "outputs": [
        {
          "output_type": "stream",
          "text": [
            "Решение уравнения = [-9.2         0.9         6.46666667]\n"
          ],
          "name": "stdout"
        }
      ]
    },
    {
      "metadata": {
        "id": "f7RwL8Ff1GgC",
        "colab_type": "text"
      },
      "cell_type": "markdown",
      "source": [
        "2. Найдите псевдорешение:"
      ]
    },
    {
      "metadata": {
        "id": "Ok7hlviT6rth",
        "colab_type": "text"
      },
      "cell_type": "markdown",
      "source": [
        "$$x + 2y – z = 1$$\n",
        "$$3x – 4y = 7$$\n",
        "$$8x – 5y + 2z = 12$$\n",
        "$$2x – 5z = 7$$\n",
        "$$11x +4y – 7z = 15$$"
      ]
    },
    {
      "metadata": {
        "id": "ytvHrehP1EUD",
        "colab_type": "code",
        "colab": {
          "base_uri": "https://localhost:8080/",
          "height": 156
        },
        "outputId": "a3d230b7-6436-4fbe-fb39-08adde03005a"
      },
      "cell_type": "code",
      "source": [
        "A = np.array([[1, 2, -1], [3, -4, 0], [8, -5, 2], [2, 0, -5], [11, 4, -7]])\n",
        "B = np.array([1, 7, 12, 7, 15])\n",
        "np.linalg.lstsq(A, B)"
      ],
      "execution_count": 4,
      "outputs": [
        {
          "output_type": "stream",
          "text": [
            "/usr/local/lib/python3.6/dist-packages/ipykernel_launcher.py:3: FutureWarning: `rcond` parameter will change to the default of machine precision times ``max(M, N)`` where M and N are the input matrix dimensions.\n",
            "To use the future default and silence this warning we advise to pass `rcond=None`, to keep using the old, explicitly pass `rcond=-1`.\n",
            "  This is separate from the ipykernel package so we can avoid doing imports until\n"
          ],
          "name": "stderr"
        },
        {
          "output_type": "execute_result",
          "data": {
            "text/plain": [
              "(array([ 1.13919353, -0.90498444, -0.9009803 ]),\n",
              " array([0.71523211]),\n",
              " 3,\n",
              " array([15.2817306 ,  9.59852942,  3.65197794]))"
            ]
          },
          "metadata": {
            "tags": []
          },
          "execution_count": 4
        }
      ]
    },
    {
      "metadata": {
        "id": "PLw_F602Ftg2",
        "colab_type": "text"
      },
      "cell_type": "markdown",
      "source": [
        "*Ответ:* [1.13919353, -0.90498444, -0.9009803]"
      ]
    },
    {
      "metadata": {
        "id": "ulbJSK6DF_OC",
        "colab_type": "text"
      },
      "cell_type": "markdown",
      "source": [
        "3. Сколько решений имеет линейная система:"
      ]
    },
    {
      "metadata": {
        "id": "vMH_Fes_JQ8p",
        "colab_type": "code",
        "colab": {
          "base_uri": "https://localhost:8080/",
          "height": 85
        },
        "outputId": "1a1bfcf0-cbc1-4ebf-b22f-d78a6c6efa04"
      },
      "cell_type": "code",
      "source": [
        "A = np.array([[1, 2, 3], [4, 5, 6], [7, 8, 9]])\n",
        "B = np.array([[12, 2, 1]])\n",
        "C = np.concatenate((A, B.T), axis=1)\n",
        "print(C)\n",
        "\n",
        "np.linalg.matrix_rank(A), np.linalg.matrix_rank(C)"
      ],
      "execution_count": 14,
      "outputs": [
        {
          "output_type": "stream",
          "text": [
            "[[ 1  2  3 12]\n",
            " [ 4  5  6  2]\n",
            " [ 7  8  9  1]]\n"
          ],
          "name": "stdout"
        },
        {
          "output_type": "execute_result",
          "data": {
            "text/plain": [
              "(2, 3)"
            ]
          },
          "metadata": {
            "tags": []
          },
          "execution_count": 14
        }
      ]
    },
    {
      "metadata": {
        "id": "EgTFQeQdLogi",
        "colab_type": "text"
      },
      "cell_type": "markdown",
      "source": [
        "Т.к. ранг исходной матрицы не равен рангу расширенной матрицы, то система не имеет решений."
      ]
    },
    {
      "metadata": {
        "id": "nzOT6qrZKbLe",
        "colab_type": "code",
        "colab": {
          "base_uri": "https://localhost:8080/",
          "height": 85
        },
        "outputId": "eefc83a3-76f7-42d6-a314-b225247cdde6"
      },
      "cell_type": "code",
      "source": [
        "A = np.array([[1, 2, 3], [4, 5, 6], [7, 8, 9]])\n",
        "B = np.array([[12, 12, 12]])\n",
        "C = np.concatenate((A, B.T), axis=1)\n",
        "print(C)\n",
        "\n",
        "np.linalg.matrix_rank(A), np.linalg.matrix_rank(C)"
      ],
      "execution_count": 47,
      "outputs": [
        {
          "output_type": "stream",
          "text": [
            "[[ 1  2  3 12]\n",
            " [ 4  5  6 12]\n",
            " [ 7  8  9 12]]\n"
          ],
          "name": "stdout"
        },
        {
          "output_type": "execute_result",
          "data": {
            "text/plain": [
              "(2, 2)"
            ]
          },
          "metadata": {
            "tags": []
          },
          "execution_count": 47
        }
      ]
    },
    {
      "metadata": {
        "id": "xfZozLLuMKZP",
        "colab_type": "code",
        "colab": {
          "base_uri": "https://localhost:8080/",
          "height": 190
        },
        "outputId": "27014b73-d1f3-45f7-e619-f1c552216e07"
      },
      "cell_type": "code",
      "source": [
        "np.linalg.lstsq(A, B.T)"
      ],
      "execution_count": 50,
      "outputs": [
        {
          "output_type": "stream",
          "text": [
            "/usr/local/lib/python3.6/dist-packages/ipykernel_launcher.py:1: FutureWarning: `rcond` parameter will change to the default of machine precision times ``max(M, N)`` where M and N are the input matrix dimensions.\n",
            "To use the future default and silence this warning we advise to pass `rcond=None`, to keep using the old, explicitly pass `rcond=-1`.\n",
            "  \"\"\"Entry point for launching an IPython kernel.\n"
          ],
          "name": "stderr"
        },
        {
          "output_type": "execute_result",
          "data": {
            "text/plain": [
              "(array([[-6.0000000e+00],\n",
              "        [ 8.8817842e-16],\n",
              "        [ 6.0000000e+00]]),\n",
              " array([], dtype=float64),\n",
              " 2,\n",
              " array([1.68481034e+01, 1.06836951e+00, 4.41842475e-16]))"
            ]
          },
          "metadata": {
            "tags": []
          },
          "execution_count": 50
        }
      ]
    },
    {
      "metadata": {
        "id": "thPlaZvnQRM4",
        "colab_type": "code",
        "colab": {}
      },
      "cell_type": "code",
      "source": [
        ""
      ],
      "execution_count": 0,
      "outputs": []
    }
  ]
}